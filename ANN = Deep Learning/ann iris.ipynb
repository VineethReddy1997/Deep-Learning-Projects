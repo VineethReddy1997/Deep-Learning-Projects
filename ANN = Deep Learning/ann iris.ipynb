{
 "cells": [
  {
   "cell_type": "code",
   "execution_count": 1,
   "id": "9c8f5320",
   "metadata": {},
   "outputs": [],
   "source": [
    "#pip install tensorflow"
   ]
  },
  {
   "cell_type": "code",
   "execution_count": 2,
   "id": "74673422",
   "metadata": {},
   "outputs": [],
   "source": [
    "import numpy as np\n",
    "import pandas as pd\n",
    "from sklearn.model_selection import train_test_split\n",
    "from sklearn.datasets import load_iris"
   ]
  },
  {
   "cell_type": "code",
   "execution_count": 3,
   "id": "62d2b5a4",
   "metadata": {},
   "outputs": [],
   "source": [
    "iris_Data = load_iris()\n",
    "features = iris_Data.data\n",
    "targets = iris_Data.target"
   ]
  },
  {
   "cell_type": "code",
   "execution_count": 4,
   "id": "a4d668c7",
   "metadata": {},
   "outputs": [
    {
     "data": {
      "text/plain": [
       "{0, 1, 2}"
      ]
     },
     "execution_count": 4,
     "metadata": {},
     "output_type": "execute_result"
    }
   ],
   "source": [
    "set(targets)"
   ]
  },
  {
   "cell_type": "code",
   "execution_count": 5,
   "id": "845a6863",
   "metadata": {},
   "outputs": [
    {
     "data": {
      "text/plain": [
       "(150, 4)"
      ]
     },
     "execution_count": 5,
     "metadata": {},
     "output_type": "execute_result"
    }
   ],
   "source": [
    "features.shape"
   ]
  },
  {
   "cell_type": "code",
   "execution_count": 6,
   "id": "b68e217e",
   "metadata": {},
   "outputs": [],
   "source": [
    "X_train, X_test, y_train, y_test = train_test_split(\n",
    "    features, \n",
    "    targets, \n",
    "    test_size=0.2,\n",
    ")"
   ]
  },
  {
   "cell_type": "code",
   "execution_count": 7,
   "id": "ecad88cd",
   "metadata": {},
   "outputs": [],
   "source": [
    "X_train__, X_val,Y_train__, y_val = train_test_split(\n",
    "    X_train, \n",
    "    y_train, \n",
    "    test_size=0.1\n",
    ")"
   ]
  },
  {
   "cell_type": "code",
   "execution_count": 8,
   "id": "d5c3550b",
   "metadata": {},
   "outputs": [],
   "source": [
    "from tensorflow.keras.layers import Dense\n",
    "from tensorflow.keras.models import Sequential"
   ]
  },
  {
   "cell_type": "code",
   "execution_count": 9,
   "id": "766b1039",
   "metadata": {},
   "outputs": [
    {
     "name": "stdout",
     "output_type": "stream",
     "text": [
      "Model: \"sequential\"\n",
      "_________________________________________________________________\n",
      " Layer (type)                Output Shape              Param #   \n",
      "=================================================================\n",
      " dense (Dense)               (None, 250)               1250      \n",
      "                                                                 \n",
      " dense_1 (Dense)             (None, 100)               25100     \n",
      "                                                                 \n",
      " dense_2 (Dense)             (None, 50)                5050      \n",
      "                                                                 \n",
      " dense_3 (Dense)             (None, 3)                 153       \n",
      "                                                                 \n",
      "=================================================================\n",
      "Total params: 31,553\n",
      "Trainable params: 31,553\n",
      "Non-trainable params: 0\n",
      "_________________________________________________________________\n"
     ]
    }
   ],
   "source": [
    "input_shape=(features.shape[1], )\n",
    "model = Sequential()\n",
    "model.add(Dense(250, input_shape=input_shape))\n",
    "model.add(Dense(100, activation='relu'))\n",
    "model.add(Dense(50, activation='relu'))\n",
    "model.add(Dense(3, activation=\"softmax\"))\n",
    "model.summary()"
   ]
  },
  {
   "cell_type": "code",
   "execution_count": 10,
   "id": "88eecf04",
   "metadata": {},
   "outputs": [],
   "source": [
    "from tensorflow.keras.losses import SparseCategoricalCrossentropy\n",
    "\n",
    "\n",
    "model.compile(loss='sparse_categorical_crossentropy', metrics=['accuracy'])"
   ]
  },
  {
   "cell_type": "code",
   "execution_count": 11,
   "id": "93d54c6d",
   "metadata": {},
   "outputs": [
    {
     "data": {
      "text/plain": [
       "((108, 4), (108,), (12, 4), (12,))"
      ]
     },
     "execution_count": 11,
     "metadata": {},
     "output_type": "execute_result"
    }
   ],
   "source": [
    "X_train__.shape, Y_train__.shape, X_val.shape, y_val.shape"
   ]
  },
  {
   "cell_type": "code",
   "execution_count": 12,
   "id": "824c74ae",
   "metadata": {},
   "outputs": [
    {
     "name": "stdout",
     "output_type": "stream",
     "text": [
      "Epoch 1/10\n",
      "7/7 [==============================] - 4s 82ms/step - loss: 0.9446 - accuracy: 0.6111 - val_loss: 0.6937 - val_accuracy: 0.5833\n",
      "Epoch 2/10\n",
      "7/7 [==============================] - 0s 13ms/step - loss: 0.5844 - accuracy: 0.7407 - val_loss: 0.4602 - val_accuracy: 1.0000\n",
      "Epoch 3/10\n",
      "7/7 [==============================] - 0s 10ms/step - loss: 0.4486 - accuracy: 0.8981 - val_loss: 0.3418 - val_accuracy: 0.8333\n",
      "Epoch 4/10\n",
      "7/7 [==============================] - 0s 9ms/step - loss: 0.4937 - accuracy: 0.7037 - val_loss: 0.2847 - val_accuracy: 0.8333\n",
      "Epoch 5/10\n",
      "7/7 [==============================] - 0s 10ms/step - loss: 0.3880 - accuracy: 0.7870 - val_loss: 0.2651 - val_accuracy: 1.0000\n",
      "Epoch 6/10\n",
      "7/7 [==============================] - 0s 12ms/step - loss: 0.3583 - accuracy: 0.8333 - val_loss: 0.2023 - val_accuracy: 1.0000\n",
      "Epoch 7/10\n",
      "7/7 [==============================] - 0s 9ms/step - loss: 0.2813 - accuracy: 0.9074 - val_loss: 0.3155 - val_accuracy: 0.8333\n",
      "Epoch 8/10\n",
      "7/7 [==============================] - 0s 8ms/step - loss: 0.4175 - accuracy: 0.7407 - val_loss: 0.3241 - val_accuracy: 0.8333\n",
      "Epoch 9/10\n",
      "7/7 [==============================] - 0s 8ms/step - loss: 0.2903 - accuracy: 0.8611 - val_loss: 0.3066 - val_accuracy: 0.8333\n",
      "Epoch 10/10\n",
      "7/7 [==============================] - 0s 8ms/step - loss: 0.2210 - accuracy: 0.9444 - val_loss: 0.1280 - val_accuracy: 1.0000\n"
     ]
    },
    {
     "data": {
      "text/plain": [
       "<keras.callbacks.History at 0x1b7c3f299a0>"
      ]
     },
     "execution_count": 12,
     "metadata": {},
     "output_type": "execute_result"
    }
   ],
   "source": [
    "model.fit(X_train__, Y_train__, \n",
    "          batch_size=16,\n",
    "          validation_data=(X_val, y_val),\n",
    "          epochs=10)"
   ]
  },
  {
   "cell_type": "code",
   "execution_count": 13,
   "id": "8bfcbb1a",
   "metadata": {},
   "outputs": [],
   "source": [
    "from tensorflow.keras.utils import to_categorical\n",
    "# to_categorical(targets)"
   ]
  },
  {
   "cell_type": "code",
   "execution_count": 14,
   "id": "851eba22",
   "metadata": {},
   "outputs": [],
   "source": [
    "# targets"
   ]
  },
  {
   "cell_type": "code",
   "execution_count": 19,
   "id": "af174b3b",
   "metadata": {},
   "outputs": [
    {
     "data": {
      "text/plain": [
       "array([[9.9656528e-01, 3.4013640e-03, 3.3372318e-05],\n",
       "       [4.1368529e-03, 7.5520337e-01, 2.4065976e-01],\n",
       "       [8.4460429e-05, 1.2396793e-01, 8.7594765e-01],\n",
       "       [5.2391103e-04, 3.1214157e-01, 6.8733454e-01],\n",
       "       [9.9455155e-03, 7.4518669e-01, 2.4486785e-01],\n",
       "       [4.2785637e-04, 2.4518785e-01, 7.5438434e-01],\n",
       "       [2.7870828e-06, 2.6565045e-02, 9.7343212e-01],\n",
       "       [9.8529947e-01, 1.4331565e-02, 3.6896297e-04],\n",
       "       [4.6758540e-02, 8.7618232e-01, 7.7059232e-02],\n",
       "       [9.8939383e-01, 1.0423351e-02, 1.8277272e-04],\n",
       "       [9.8653978e-01, 1.3203608e-02, 2.5666563e-04],\n",
       "       [2.9629746e-03, 5.5953395e-01, 4.3750313e-01],\n",
       "       [1.7759195e-02, 8.3117878e-01, 1.5106207e-01],\n",
       "       [9.8498696e-01, 1.4704983e-02, 3.0810782e-04],\n",
       "       [9.9343675e-01, 6.4954720e-03, 6.7791087e-05],\n",
       "       [8.0482457e-03, 8.4553802e-01, 1.4641377e-01],\n",
       "       [3.1033168e-03, 6.5602869e-01, 3.4086800e-01],\n",
       "       [9.1303475e-03, 8.4475905e-01, 1.4611055e-01],\n",
       "       [6.9488604e-05, 1.0174040e-01, 8.9819014e-01],\n",
       "       [9.7585654e-01, 2.3651492e-02, 4.9196027e-04],\n",
       "       [9.9201971e-01, 7.8547690e-03, 1.2542288e-04],\n",
       "       [9.9314135e-01, 6.7281001e-03, 1.3054858e-04],\n",
       "       [1.0926364e-03, 4.7183195e-01, 5.2707535e-01],\n",
       "       [1.2332476e-02, 7.6933485e-01, 2.1833265e-01],\n",
       "       [2.5494466e-05, 5.3385708e-02, 9.4658875e-01],\n",
       "       [9.8017567e-01, 1.9440863e-02, 3.8347146e-04],\n",
       "       [9.8222232e-01, 1.7303448e-02, 4.7417349e-04],\n",
       "       [5.1260516e-03, 7.9516977e-01, 1.9970413e-01],\n",
       "       [2.2331024e-05, 4.9235418e-02, 9.5074224e-01],\n",
       "       [8.6251949e-04, 3.0222708e-01, 6.9691032e-01]], dtype=float32)"
      ]
     },
     "execution_count": 19,
     "metadata": {},
     "output_type": "execute_result"
    }
   ],
   "source": [
    "y_pred = model.predict(X_test)\n",
    "y_pred"
   ]
  },
  {
   "cell_type": "code",
   "execution_count": 20,
   "id": "5704c49d",
   "metadata": {},
   "outputs": [
    {
     "data": {
      "text/plain": [
       "array([0, 1, 2, 2, 1, 2, 2, 0, 1, 0, 0, 1, 1, 0, 0, 1, 1, 1, 2, 0, 0, 0,\n",
       "       1, 1, 2, 0, 0, 1, 2, 1])"
      ]
     },
     "execution_count": 20,
     "metadata": {},
     "output_type": "execute_result"
    }
   ],
   "source": [
    "y_test"
   ]
  },
  {
   "cell_type": "code",
   "execution_count": null,
   "id": "32108cc9",
   "metadata": {},
   "outputs": [],
   "source": [
    "from sklearn.metrics import accuracy_score\n",
    "accuracy_score(y_test, y_pred)"
   ]
  },
  {
   "cell_type": "code",
   "execution_count": null,
   "id": "18d9811a",
   "metadata": {},
   "outputs": [],
   "source": []
  },
  {
   "cell_type": "code",
   "execution_count": null,
   "id": "c1caf577",
   "metadata": {},
   "outputs": [],
   "source": []
  }
 ],
 "metadata": {
  "kernelspec": {
   "display_name": "Python 3",
   "language": "python",
   "name": "python3"
  },
  "language_info": {
   "codemirror_mode": {
    "name": "ipython",
    "version": 3
   },
   "file_extension": ".py",
   "mimetype": "text/x-python",
   "name": "python",
   "nbconvert_exporter": "python",
   "pygments_lexer": "ipython3",
   "version": "3.8.8"
  }
 },
 "nbformat": 4,
 "nbformat_minor": 5
}
