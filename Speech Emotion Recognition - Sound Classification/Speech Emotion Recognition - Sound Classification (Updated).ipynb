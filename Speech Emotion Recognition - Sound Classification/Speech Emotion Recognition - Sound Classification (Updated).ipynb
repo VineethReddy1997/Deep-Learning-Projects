{
 "cells": [
  {
   "cell_type": "markdown",
   "metadata": {},
   "source": [
    "## Import Modules"
   ]
  },
  {
   "cell_type": "code",
   "execution_count": 2,
   "metadata": {
    "execution": {
     "iopub.execute_input": "2021-11-21T11:50:44.940328Z",
     "iopub.status.busy": "2021-11-21T11:50:44.940070Z",
     "iopub.status.idle": "2021-11-21T11:50:46.943828Z",
     "shell.execute_reply": "2021-11-21T11:50:46.943030Z",
     "shell.execute_reply.started": "2021-11-21T11:50:44.940288Z"
    }
   },
   "outputs": [],
   "source": [
    "import pandas as pd\n",
    "import numpy as np\n",
    "import os\n",
    "import seaborn as sns\n",
    "import matplotlib.pyplot as plt\n",
    "import librosa\n",
    "import librosa.display\n",
    "from IPython.display import Audio\n",
    "import warnings\n",
    "warnings.filterwarnings('ignore')"
   ]
  },
  {
   "cell_type": "markdown",
   "metadata": {},
   "source": [
    "## Load the Dataset"
   ]
  },
  {
   "cell_type": "code",
   "execution_count": 3,
   "metadata": {
    "execution": {
     "iopub.execute_input": "2021-11-21T11:50:46.945740Z",
     "iopub.status.busy": "2021-11-21T11:50:46.945488Z",
     "iopub.status.idle": "2021-11-21T11:50:47.529657Z",
     "shell.execute_reply": "2021-11-21T11:50:47.528987Z",
     "shell.execute_reply.started": "2021-11-21T11:50:46.945702Z"
    }
   },
   "outputs": [],
   "source": [
    "paths = []\n",
    "labels = []\n",
    "for dirname, _, filenames in os.walk('/kaggle/input'):\n",
    "    for filename in filenames:\n",
    "        paths.append(os.path.join(dirname, filename))\n",
    "        label = filename.split('_')[-1]\n",
    "        label = label.split('.')[0]\n",
    "        labels.append(label.lower())\n",
    "    if len(paths) == 2800:\n",
    "        break\n",
    "print('Dataset is Loaded')"
   ]
  },
  {
   "cell_type": "code",
   "execution_count": 4,
   "metadata": {
    "execution": {
     "iopub.execute_input": "2021-11-21T11:50:47.533425Z",
     "iopub.status.busy": "2021-11-21T11:50:47.532520Z",
     "iopub.status.idle": "2021-11-21T11:50:47.544069Z",
     "shell.execute_reply": "2021-11-21T11:50:47.542063Z",
     "shell.execute_reply.started": "2021-11-21T11:50:47.533082Z"
    }
   },
   "outputs": [],
   "source": [
    "len(paths)"
   ]
  },
  {
   "cell_type": "code",
   "execution_count": 5,
   "metadata": {
    "execution": {
     "iopub.execute_input": "2021-11-21T11:50:47.548978Z",
     "iopub.status.busy": "2021-11-21T11:50:47.547150Z",
     "iopub.status.idle": "2021-11-21T11:50:47.560318Z",
     "shell.execute_reply": "2021-11-21T11:50:47.558502Z",
     "shell.execute_reply.started": "2021-11-21T11:50:47.548052Z"
    }
   },
   "outputs": [],
   "source": [
    "paths[:5]"
   ]
  },
  {
   "cell_type": "code",
   "execution_count": 6,
   "metadata": {
    "execution": {
     "iopub.execute_input": "2021-11-21T11:50:47.564073Z",
     "iopub.status.busy": "2021-11-21T11:50:47.562883Z",
     "iopub.status.idle": "2021-11-21T11:50:47.574068Z",
     "shell.execute_reply": "2021-11-21T11:50:47.570469Z",
     "shell.execute_reply.started": "2021-11-21T11:50:47.564035Z"
    }
   },
   "outputs": [],
   "source": [
    "labels[:5]"
   ]
  },
  {
   "cell_type": "code",
   "execution_count": 7,
   "metadata": {
    "execution": {
     "iopub.execute_input": "2021-11-21T11:50:47.575678Z",
     "iopub.status.busy": "2021-11-21T11:50:47.575385Z",
     "iopub.status.idle": "2021-11-21T11:50:47.610490Z",
     "shell.execute_reply": "2021-11-21T11:50:47.609667Z",
     "shell.execute_reply.started": "2021-11-21T11:50:47.575643Z"
    }
   },
   "outputs": [],
   "source": [
    "## Create a dataframe\n",
    "df = pd.DataFrame()\n",
    "df['speech'] = paths\n",
    "df['label'] = labels\n",
    "df.head()"
   ]
  },
  {
   "cell_type": "code",
   "execution_count": 8,
   "metadata": {
    "execution": {
     "iopub.execute_input": "2021-11-21T11:50:47.611977Z",
     "iopub.status.busy": "2021-11-21T11:50:47.611710Z",
     "iopub.status.idle": "2021-11-21T11:50:47.620497Z",
     "shell.execute_reply": "2021-11-21T11:50:47.619608Z",
     "shell.execute_reply.started": "2021-11-21T11:50:47.611944Z"
    }
   },
   "outputs": [],
   "source": [
    "df['label'].value_counts()"
   ]
  },
  {
   "cell_type": "markdown",
   "metadata": {},
   "source": [
    "## Exploratory Data Analysis"
   ]
  },
  {
   "cell_type": "code",
   "execution_count": 9,
   "metadata": {
    "execution": {
     "iopub.execute_input": "2021-11-21T11:50:47.622339Z",
     "iopub.status.busy": "2021-11-21T11:50:47.621947Z",
     "iopub.status.idle": "2021-11-21T11:50:47.886585Z",
     "shell.execute_reply": "2021-11-21T11:50:47.885956Z",
     "shell.execute_reply.started": "2021-11-21T11:50:47.622303Z"
    }
   },
   "outputs": [],
   "source": [
    "sns.countplot(df['label'])"
   ]
  },
  {
   "cell_type": "code",
   "execution_count": 10,
   "metadata": {
    "execution": {
     "iopub.execute_input": "2021-11-21T11:50:47.894817Z",
     "iopub.status.busy": "2021-11-21T11:50:47.892475Z",
     "iopub.status.idle": "2021-11-21T11:50:47.904235Z",
     "shell.execute_reply": "2021-11-21T11:50:47.903321Z",
     "shell.execute_reply.started": "2021-11-21T11:50:47.894772Z"
    }
   },
   "outputs": [],
   "source": [
    "def waveplot(data, sr, emotion):\n",
    "    plt.figure(figsize=(10,4))\n",
    "    plt.title(emotion, size=20)\n",
    "    librosa.display.waveplot(data, sr=sr)\n",
    "    plt.show()\n",
    "    \n",
    "def spectogram(data, sr, emotion):\n",
    "    x = librosa.stft(data)\n",
    "    xdb = librosa.amplitude_to_db(abs(x))\n",
    "    plt.figure(figsize=(11,4))\n",
    "    plt.title(emotion, size=20)\n",
    "    librosa.display.specshow(xdb, sr=sr, x_axis='time', y_axis='hz')\n",
    "    plt.colorbar()"
   ]
  },
  {
   "cell_type": "code",
   "execution_count": 11,
   "metadata": {
    "execution": {
     "iopub.execute_input": "2021-11-21T11:50:47.911931Z",
     "iopub.status.busy": "2021-11-21T11:50:47.909085Z",
     "iopub.status.idle": "2021-11-21T11:50:49.328927Z",
     "shell.execute_reply": "2021-11-21T11:50:49.328031Z",
     "shell.execute_reply.started": "2021-11-21T11:50:47.911875Z"
    }
   },
   "outputs": [],
   "source": [
    "emotion = 'fear'\n",
    "path = np.array(df['speech'][df['label']==emotion])[0]\n",
    "data, sampling_rate = librosa.load(path)\n",
    "waveplot(data, sampling_rate, emotion)\n",
    "spectogram(data, sampling_rate, emotion)\n",
    "Audio(path)"
   ]
  },
  {
   "cell_type": "code",
   "execution_count": 12,
   "metadata": {
    "execution": {
     "iopub.execute_input": "2021-11-21T11:50:49.331113Z",
     "iopub.status.busy": "2021-11-21T11:50:49.330345Z",
     "iopub.status.idle": "2021-11-21T11:50:50.119538Z",
     "shell.execute_reply": "2021-11-21T11:50:50.118814Z",
     "shell.execute_reply.started": "2021-11-21T11:50:49.331073Z"
    }
   },
   "outputs": [],
   "source": [
    "emotion = 'angry'\n",
    "path = np.array(df['speech'][df['label']==emotion])[1]\n",
    "data, sampling_rate = librosa.load(path)\n",
    "waveplot(data, sampling_rate, emotion)\n",
    "spectogram(data, sampling_rate, emotion)\n",
    "Audio(path)"
   ]
  },
  {
   "cell_type": "code",
   "execution_count": 13,
   "metadata": {
    "execution": {
     "iopub.execute_input": "2021-11-21T11:50:50.121422Z",
     "iopub.status.busy": "2021-11-21T11:50:50.120610Z",
     "iopub.status.idle": "2021-11-21T11:50:50.722437Z",
     "shell.execute_reply": "2021-11-21T11:50:50.721755Z",
     "shell.execute_reply.started": "2021-11-21T11:50:50.121384Z"
    }
   },
   "outputs": [],
   "source": [
    "emotion = 'disgust'\n",
    "path = np.array(df['speech'][df['label']==emotion])[0]\n",
    "data, sampling_rate = librosa.load(path)\n",
    "waveplot(data, sampling_rate, emotion)\n",
    "spectogram(data, sampling_rate, emotion)\n",
    "Audio(path)"
   ]
  },
  {
   "cell_type": "code",
   "execution_count": 14,
   "metadata": {
    "execution": {
     "iopub.execute_input": "2021-11-21T11:50:50.724206Z",
     "iopub.status.busy": "2021-11-21T11:50:50.723964Z",
     "iopub.status.idle": "2021-11-21T11:50:51.407475Z",
     "shell.execute_reply": "2021-11-21T11:50:51.406806Z",
     "shell.execute_reply.started": "2021-11-21T11:50:50.724172Z"
    }
   },
   "outputs": [],
   "source": [
    "emotion = 'neutral'\n",
    "path = np.array(df['speech'][df['label']==emotion])[0]\n",
    "data, sampling_rate = librosa.load(path)\n",
    "waveplot(data, sampling_rate, emotion)\n",
    "spectogram(data, sampling_rate, emotion)\n",
    "Audio(path)"
   ]
  },
  {
   "cell_type": "code",
   "execution_count": 15,
   "metadata": {
    "execution": {
     "iopub.execute_input": "2021-11-21T11:50:51.409085Z",
     "iopub.status.busy": "2021-11-21T11:50:51.408800Z",
     "iopub.status.idle": "2021-11-21T11:50:52.017509Z",
     "shell.execute_reply": "2021-11-21T11:50:52.016794Z",
     "shell.execute_reply.started": "2021-11-21T11:50:51.409050Z"
    }
   },
   "outputs": [],
   "source": [
    "emotion = 'sad'\n",
    "path = np.array(df['speech'][df['label']==emotion])[0]\n",
    "data, sampling_rate = librosa.load(path)\n",
    "waveplot(data, sampling_rate, emotion)\n",
    "spectogram(data, sampling_rate, emotion)\n",
    "Audio(path)"
   ]
  },
  {
   "cell_type": "code",
   "execution_count": 16,
   "metadata": {
    "execution": {
     "iopub.execute_input": "2021-11-21T11:50:52.020644Z",
     "iopub.status.busy": "2021-11-21T11:50:52.020427Z",
     "iopub.status.idle": "2021-11-21T11:50:52.831389Z",
     "shell.execute_reply": "2021-11-21T11:50:52.830756Z",
     "shell.execute_reply.started": "2021-11-21T11:50:52.020618Z"
    }
   },
   "outputs": [],
   "source": [
    "emotion = 'ps'\n",
    "path = np.array(df['speech'][df['label']==emotion])[0]\n",
    "data, sampling_rate = librosa.load(path)\n",
    "waveplot(data, sampling_rate, emotion)\n",
    "spectogram(data, sampling_rate, emotion)\n",
    "Audio(path)"
   ]
  },
  {
   "cell_type": "code",
   "execution_count": 17,
   "metadata": {
    "execution": {
     "iopub.execute_input": "2021-11-21T11:50:52.833245Z",
     "iopub.status.busy": "2021-11-21T11:50:52.832757Z",
     "iopub.status.idle": "2021-11-21T11:50:53.465405Z",
     "shell.execute_reply": "2021-11-21T11:50:53.464751Z",
     "shell.execute_reply.started": "2021-11-21T11:50:52.833208Z"
    }
   },
   "outputs": [],
   "source": [
    "emotion = 'happy'\n",
    "path = np.array(df['speech'][df['label']==emotion])[0]\n",
    "data, sampling_rate = librosa.load(path)\n",
    "waveplot(data, sampling_rate, emotion)\n",
    "spectogram(data, sampling_rate, emotion)\n",
    "Audio(path)"
   ]
  },
  {
   "cell_type": "markdown",
   "metadata": {},
   "source": [
    "## Feature Extraction"
   ]
  },
  {
   "cell_type": "code",
   "execution_count": 18,
   "metadata": {
    "execution": {
     "iopub.execute_input": "2021-11-21T11:50:53.467273Z",
     "iopub.status.busy": "2021-11-21T11:50:53.466838Z",
     "iopub.status.idle": "2021-11-21T11:50:53.472716Z",
     "shell.execute_reply": "2021-11-21T11:50:53.471864Z",
     "shell.execute_reply.started": "2021-11-21T11:50:53.467238Z"
    }
   },
   "outputs": [],
   "source": [
    "def extract_mfcc(filename):\n",
    "    y, sr = librosa.load(filename, duration=3, offset=0.5)\n",
    "    mfcc = np.mean(librosa.feature.mfcc(y=y, sr=sr, n_mfcc=40).T, axis=0)\n",
    "    return mfcc"
   ]
  },
  {
   "cell_type": "code",
   "execution_count": 19,
   "metadata": {
    "execution": {
     "iopub.execute_input": "2021-11-21T11:50:53.474689Z",
     "iopub.status.busy": "2021-11-21T11:50:53.474211Z",
     "iopub.status.idle": "2021-11-21T11:50:53.526775Z",
     "shell.execute_reply": "2021-11-21T11:50:53.525978Z",
     "shell.execute_reply.started": "2021-11-21T11:50:53.474651Z"
    }
   },
   "outputs": [],
   "source": [
    "extract_mfcc(df['speech'][0])"
   ]
  },
  {
   "cell_type": "code",
   "execution_count": 20,
   "metadata": {
    "execution": {
     "iopub.execute_input": "2021-11-21T11:50:53.533851Z",
     "iopub.status.busy": "2021-11-21T11:50:53.531361Z",
     "iopub.status.idle": "2021-11-21T11:54:53.660732Z",
     "shell.execute_reply": "2021-11-21T11:54:53.659895Z",
     "shell.execute_reply.started": "2021-11-21T11:50:53.533799Z"
    }
   },
   "outputs": [],
   "source": [
    "X_mfcc = df['speech'].apply(lambda x: extract_mfcc(x))"
   ]
  },
  {
   "cell_type": "code",
   "execution_count": 21,
   "metadata": {
    "execution": {
     "iopub.execute_input": "2021-11-21T11:54:53.662844Z",
     "iopub.status.busy": "2021-11-21T11:54:53.662360Z",
     "iopub.status.idle": "2021-11-21T11:54:53.679890Z",
     "shell.execute_reply": "2021-11-21T11:54:53.679218Z",
     "shell.execute_reply.started": "2021-11-21T11:54:53.662806Z"
    }
   },
   "outputs": [],
   "source": [
    "X_mfcc"
   ]
  },
  {
   "cell_type": "code",
   "execution_count": 22,
   "metadata": {
    "execution": {
     "iopub.execute_input": "2021-11-21T11:54:53.686474Z",
     "iopub.status.busy": "2021-11-21T11:54:53.684075Z",
     "iopub.status.idle": "2021-11-21T11:54:53.701102Z",
     "shell.execute_reply": "2021-11-21T11:54:53.700184Z",
     "shell.execute_reply.started": "2021-11-21T11:54:53.686431Z"
    }
   },
   "outputs": [],
   "source": [
    "X = [x for x in X_mfcc]\n",
    "X = np.array(X)\n",
    "X.shape"
   ]
  },
  {
   "cell_type": "code",
   "execution_count": 23,
   "metadata": {
    "execution": {
     "iopub.execute_input": "2021-11-21T11:54:53.707982Z",
     "iopub.status.busy": "2021-11-21T11:54:53.705541Z",
     "iopub.status.idle": "2021-11-21T11:54:53.718783Z",
     "shell.execute_reply": "2021-11-21T11:54:53.717957Z",
     "shell.execute_reply.started": "2021-11-21T11:54:53.707940Z"
    }
   },
   "outputs": [],
   "source": [
    "## input split\n",
    "X = np.expand_dims(X, -1)\n",
    "X.shape"
   ]
  },
  {
   "cell_type": "code",
   "execution_count": 24,
   "metadata": {
    "execution": {
     "iopub.execute_input": "2021-11-21T11:54:53.720600Z",
     "iopub.status.busy": "2021-11-21T11:54:53.720272Z",
     "iopub.status.idle": "2021-11-21T11:54:53.731169Z",
     "shell.execute_reply": "2021-11-21T11:54:53.730133Z",
     "shell.execute_reply.started": "2021-11-21T11:54:53.720559Z"
    }
   },
   "outputs": [],
   "source": [
    "from sklearn.preprocessing import OneHotEncoder\n",
    "enc = OneHotEncoder()\n",
    "y = enc.fit_transform(df[['label']])"
   ]
  },
  {
   "cell_type": "code",
   "execution_count": 25,
   "metadata": {
    "execution": {
     "iopub.execute_input": "2021-11-21T11:54:53.732709Z",
     "iopub.status.busy": "2021-11-21T11:54:53.732260Z",
     "iopub.status.idle": "2021-11-21T11:54:53.739019Z",
     "shell.execute_reply": "2021-11-21T11:54:53.738178Z",
     "shell.execute_reply.started": "2021-11-21T11:54:53.732673Z"
    }
   },
   "outputs": [],
   "source": [
    "y = y.toarray()"
   ]
  },
  {
   "cell_type": "code",
   "execution_count": 26,
   "metadata": {
    "execution": {
     "iopub.execute_input": "2021-11-21T11:54:53.740733Z",
     "iopub.status.busy": "2021-11-21T11:54:53.740206Z",
     "iopub.status.idle": "2021-11-21T11:54:53.750097Z",
     "shell.execute_reply": "2021-11-21T11:54:53.749165Z",
     "shell.execute_reply.started": "2021-11-21T11:54:53.740689Z"
    }
   },
   "outputs": [],
   "source": [
    "y.shape"
   ]
  },
  {
   "cell_type": "markdown",
   "metadata": {},
   "source": [
    "## Create the LSTM Model"
   ]
  },
  {
   "cell_type": "code",
   "execution_count": 162,
   "metadata": {
    "execution": {
     "iopub.execute_input": "2021-11-21T12:28:34.633005Z",
     "iopub.status.busy": "2021-11-21T12:28:34.632287Z",
     "iopub.status.idle": "2021-11-21T12:28:34.871036Z",
     "shell.execute_reply": "2021-11-21T12:28:34.870308Z",
     "shell.execute_reply.started": "2021-11-21T12:28:34.632962Z"
    }
   },
   "outputs": [],
   "source": [
    "from keras.models import Sequential\n",
    "from keras.layers import Dense, LSTM, Dropout\n",
    "\n",
    "model = Sequential([\n",
    "    LSTM(128, return_sequences=False, input_shape=(40,1)),\n",
    "    Dense(64, activation='relu'),\n",
    "    Dropout(0.4),\n",
    "    Dense(32, activation='relu'),\n",
    "    Dropout(0.4),\n",
    "    Dense(7, activation='softmax')\n",
    "])\n",
    "\n",
    "model.compile(loss='categorical_crossentropy', optimizer='adam', metrics=['accuracy'])\n",
    "model.summary()"
   ]
  },
  {
   "cell_type": "code",
   "execution_count": 163,
   "metadata": {
    "execution": {
     "iopub.execute_input": "2021-11-21T12:28:34.872786Z",
     "iopub.status.busy": "2021-11-21T12:28:34.872447Z",
     "iopub.status.idle": "2021-11-21T12:28:40.968182Z",
     "shell.execute_reply": "2021-11-21T12:28:40.967452Z",
     "shell.execute_reply.started": "2021-11-21T12:28:34.872740Z"
    }
   },
   "outputs": [],
   "source": [
    "# Train the model\n",
    "history = model.fit(X, y, validation_split=0.2, epochs=50, batch_size=256)"
   ]
  },
  {
   "cell_type": "markdown",
   "metadata": {},
   "source": [
    "## Plot the results"
   ]
  },
  {
   "cell_type": "code",
   "execution_count": 166,
   "metadata": {
    "execution": {
     "iopub.execute_input": "2021-11-21T12:29:05.710573Z",
     "iopub.status.busy": "2021-11-21T12:29:05.710035Z",
     "iopub.status.idle": "2021-11-21T12:29:05.913508Z",
     "shell.execute_reply": "2021-11-21T12:29:05.912773Z",
     "shell.execute_reply.started": "2021-11-21T12:29:05.710530Z"
    }
   },
   "outputs": [],
   "source": [
    "epochs = list(range(50))\n",
    "acc = history.history['accuracy']\n",
    "val_acc = history.history['val_accuracy']\n",
    "\n",
    "plt.plot(epochs, acc, label='train accuracy')\n",
    "plt.plot(epochs, val_acc, label='val accuracy')\n",
    "plt.xlabel('epochs')\n",
    "plt.ylabel('accuracy')\n",
    "plt.legend()\n",
    "plt.show()"
   ]
  },
  {
   "cell_type": "code",
   "execution_count": 167,
   "metadata": {
    "execution": {
     "iopub.execute_input": "2021-11-21T12:29:05.947306Z",
     "iopub.status.busy": "2021-11-21T12:29:05.947009Z",
     "iopub.status.idle": "2021-11-21T12:29:06.161471Z",
     "shell.execute_reply": "2021-11-21T12:29:06.160724Z",
     "shell.execute_reply.started": "2021-11-21T12:29:05.947276Z"
    }
   },
   "outputs": [],
   "source": [
    "loss = history.history['loss']\n",
    "val_loss = history.history['val_loss']\n",
    "\n",
    "plt.plot(epochs, loss, label='train loss')\n",
    "plt.plot(epochs, val_loss, label='val loss')\n",
    "plt.xlabel('epochs')\n",
    "plt.ylabel('loss')\n",
    "plt.legend()\n",
    "plt.show()"
   ]
  },
  {
   "cell_type": "code",
   "execution_count": null,
   "metadata": {},
   "outputs": [],
   "source": []
  },
  {
   "cell_type": "code",
   "execution_count": null,
   "metadata": {},
   "outputs": [],
   "source": []
  }
 ],
 "metadata": {
  "kernelspec": {
   "display_name": "Python 3",
   "language": "python",
   "name": "python3"
  },
  "language_info": {
   "codemirror_mode": {
    "name": "ipython",
    "version": 3
   },
   "file_extension": ".py",
   "mimetype": "text/x-python",
   "name": "python",
   "nbconvert_exporter": "python",
   "pygments_lexer": "ipython3",
   "version": "3.8.8"
  }
 },
 "nbformat": 4,
 "nbformat_minor": 4
}
